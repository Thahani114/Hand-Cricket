{
 "cells": [
  {
   "cell_type": "code",
   "execution_count": 11,
   "id": "b9d4ab22-688b-4259-bcea-2c70b9fcc80a",
   "metadata": {},
   "outputs": [
    {
     "name": "stdout",
     "output_type": "stream",
     "text": [
      "First player turn\n"
     ]
    },
    {
     "name": "stdin",
     "output_type": "stream",
     "text": [
      "Enter your number (1,6)  6\n"
     ]
    },
    {
     "name": "stdout",
     "output_type": "stream",
     "text": [
      "Player Number: 6\n",
      "Computer Number: 5\n"
     ]
    },
    {
     "name": "stdin",
     "output_type": "stream",
     "text": [
      "Enter your number (1,6)  4\n"
     ]
    },
    {
     "name": "stdout",
     "output_type": "stream",
     "text": [
      "Player Number: 4\n",
      "Computer Number: 3\n"
     ]
    },
    {
     "name": "stdin",
     "output_type": "stream",
     "text": [
      "Enter your number (1,6)  1\n"
     ]
    },
    {
     "name": "stdout",
     "output_type": "stream",
     "text": [
      "Player Number: 1\n",
      "Computer Number: 3\n"
     ]
    },
    {
     "name": "stdin",
     "output_type": "stream",
     "text": [
      "Enter your number (1,6)  6\n"
     ]
    },
    {
     "name": "stdout",
     "output_type": "stream",
     "text": [
      "Player Number: 6\n",
      "Computer Number: 4\n"
     ]
    },
    {
     "name": "stdin",
     "output_type": "stream",
     "text": [
      "Enter your number (1,6)  4\n"
     ]
    },
    {
     "name": "stdout",
     "output_type": "stream",
     "text": [
      "Player Number: 4\n",
      "Computer Number: 3\n"
     ]
    },
    {
     "name": "stdin",
     "output_type": "stream",
     "text": [
      "Enter your number (1,6)  1\n"
     ]
    },
    {
     "name": "stdout",
     "output_type": "stream",
     "text": [
      "Player Number: 1\n",
      "Computer Number: 6\n"
     ]
    },
    {
     "name": "stdin",
     "output_type": "stream",
     "text": [
      "Enter your number (1,6)  2\n"
     ]
    },
    {
     "name": "stdout",
     "output_type": "stream",
     "text": [
      "Player Number: 2\n",
      "Computer Number: 3\n"
     ]
    },
    {
     "name": "stdin",
     "output_type": "stream",
     "text": [
      "Enter your number (1,6)  6\n"
     ]
    },
    {
     "name": "stdout",
     "output_type": "stream",
     "text": [
      "Player Number: 6\n",
      "Computer Number: 3\n"
     ]
    },
    {
     "name": "stdin",
     "output_type": "stream",
     "text": [
      "Enter your number (1,6)  2\n"
     ]
    },
    {
     "name": "stdout",
     "output_type": "stream",
     "text": [
      "Player Number: 2\n",
      "Computer Number: 1\n"
     ]
    },
    {
     "name": "stdin",
     "output_type": "stream",
     "text": [
      "Enter your number (1,6)  4\n"
     ]
    },
    {
     "name": "stdout",
     "output_type": "stream",
     "text": [
      "Player Number: 4\n",
      "Computer Number: 4\n",
      "First player is out with 32 Score\n",
      "Now Computer\n"
     ]
    },
    {
     "name": "stdin",
     "output_type": "stream",
     "text": [
      "Enter your number (1,6)  3\n"
     ]
    },
    {
     "name": "stdout",
     "output_type": "stream",
     "text": [
      "Player Number: 3\n",
      "Computer Number: 2\n"
     ]
    },
    {
     "name": "stdin",
     "output_type": "stream",
     "text": [
      "Enter your number (1,6)  6\n"
     ]
    },
    {
     "name": "stdout",
     "output_type": "stream",
     "text": [
      "Player Number: 6\n",
      "Computer Number: 2\n"
     ]
    },
    {
     "name": "stdin",
     "output_type": "stream",
     "text": [
      "Enter your number (1,6)  1\n"
     ]
    },
    {
     "name": "stdout",
     "output_type": "stream",
     "text": [
      "Player Number: 1\n",
      "Computer Number: 3\n"
     ]
    },
    {
     "name": "stdin",
     "output_type": "stream",
     "text": [
      "Enter your number (1,6)  4\n"
     ]
    },
    {
     "name": "stdout",
     "output_type": "stream",
     "text": [
      "Player Number: 4\n",
      "Computer Number: 6\n"
     ]
    },
    {
     "name": "stdin",
     "output_type": "stream",
     "text": [
      "Enter your number (1,6)  5\n"
     ]
    },
    {
     "name": "stdout",
     "output_type": "stream",
     "text": [
      "Player Number: 5\n",
      "Computer Number: 1\n"
     ]
    },
    {
     "name": "stdin",
     "output_type": "stream",
     "text": [
      "Enter your number (1,6)  3\n"
     ]
    },
    {
     "name": "stdout",
     "output_type": "stream",
     "text": [
      "Player Number: 3\n",
      "Computer Number: 2\n"
     ]
    },
    {
     "name": "stdin",
     "output_type": "stream",
     "text": [
      "Enter your number (1,6)  6\n"
     ]
    },
    {
     "name": "stdout",
     "output_type": "stream",
     "text": [
      "Player Number: 6\n",
      "Computer Number: 4\n"
     ]
    },
    {
     "name": "stdin",
     "output_type": "stream",
     "text": [
      "Enter your number (1,6)  5\n"
     ]
    },
    {
     "name": "stdout",
     "output_type": "stream",
     "text": [
      "Player Number: 5\n",
      "Computer Number: 3\n"
     ]
    },
    {
     "name": "stdin",
     "output_type": "stream",
     "text": [
      "Enter your number (1,6)  5\n"
     ]
    },
    {
     "name": "stdout",
     "output_type": "stream",
     "text": [
      "Player Number: 5\n",
      "Computer Number: 6\n"
     ]
    },
    {
     "name": "stdin",
     "output_type": "stream",
     "text": [
      "Enter your number (1,6)  5\n"
     ]
    },
    {
     "name": "stdout",
     "output_type": "stream",
     "text": [
      "Player Number: 5\n",
      "Computer Number: 5\n",
      "Computer out with 38 Score\n",
      "Computer Wins with 38 and the player only have 32\n"
     ]
    }
   ],
   "source": [
    "import random\n",
    "\n",
    "class Cricket:\n",
    "\n",
    "    def check_number(self,user_input):\n",
    "        if user_input>=0 and user_input<=6:\n",
    "            return user_input\n",
    "        else:\n",
    "            print(\"You can only enter 1 to 6\")\n",
    "            return self.player_turn()\n",
    "\n",
    "    \n",
    "    def player_turn(self):\n",
    "        user_input = int(input(\"Enter your number (1,6) \"))\n",
    "        user_input = self.check_number(user_input)\n",
    "        return user_input\n",
    "\n",
    "    def computer_turn(self):\n",
    "        return random.randint(1,6)\n",
    "\n",
    "    def update_match(self,user_input,computer_input):\n",
    "        if user_input==computer_input:\n",
    "            self.out = True\n",
    "        else:\n",
    "            self.score += user_input\n",
    "\n",
    "    def game_play(self):\n",
    "        self.out = False\n",
    "        self.score = 0\n",
    "        while self.out == False:\n",
    "            user_input = self.player_turn()\n",
    "            print(\"Player Number:\",user_input)\n",
    "            computer_input = self.computer_turn()\n",
    "            print(\"Computer Number:\", computer_input)\n",
    "            self.update_match(user_input,computer_input)\n",
    "        return self.score\n",
    "\n",
    "    def play(self):\n",
    "        print('First player turn')\n",
    "        player_score = self.game_play()\n",
    "        print(f'First player is out with {player_score} Score')\n",
    "        print('Now Computer')\n",
    "        computer_score = self.game_play()\n",
    "        print(f\"Computer out with {computer_score} Score\")\n",
    "        if computer_score>player_score:\n",
    "            print(f\"Computer Wins with {computer_score} and the player only have {player_score}\")\n",
    "        elif player_score>computer_score:\n",
    "            print(f\"Player wins with {player_score},and computer got {computer_score}\")\n",
    "        else:\n",
    "            return print(\"TIED\")\n",
    "\n",
    "\n",
    "\n",
    "\n",
    "\n",
    "game = Cricket()\n",
    "game.play()"
   ]
  },
  {
   "cell_type": "code",
   "execution_count": null,
   "id": "9ad9d445-bf41-405c-9eaf-9933c4017c99",
   "metadata": {},
   "outputs": [],
   "source": []
  }
 ],
 "metadata": {
  "kernelspec": {
   "display_name": "Python 3 (ipykernel)",
   "language": "python",
   "name": "python3"
  },
  "language_info": {
   "codemirror_mode": {
    "name": "ipython",
    "version": 3
   },
   "file_extension": ".py",
   "mimetype": "text/x-python",
   "name": "python",
   "nbconvert_exporter": "python",
   "pygments_lexer": "ipython3",
   "version": "3.12.7"
  }
 },
 "nbformat": 4,
 "nbformat_minor": 5
}
